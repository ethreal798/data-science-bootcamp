{
 "cells": [
  {
   "cell_type": "code",
   "execution_count": 39,
   "id": "a0c72531-a977-4df6-a940-ef9fa8b6fabe",
   "metadata": {},
   "outputs": [
    {
     "name": "stdout",
     "output_type": "stream",
     "text": [
      "D:\\data-science-bootcamp\\01-data-cleaning\\data\n",
      "【数据概览】总行数：418 | 列名：['PassengerId', 'Pclass', 'Name', 'Sex', 'Age', 'SibSp', 'Parch', 'Ticket', 'Fare', 'Cabin', 'Embarked']\n",
      "【缺失值TOP3】:Cabin    327\n",
      "Age       86\n",
      "Fare       1\n",
      "dtype: int64\n"
     ]
    }
   ],
   "source": [
    "#01.导入数据＋基础检查\n",
    "import pandas as pd\n",
    "import os \n",
    "print(os.getcwd())\n",
    "df = pd.read_csv(\"./raw/ttnk.csv\")\n",
    "df原始 = df.copy()\n",
    "print(f\"【数据概览】总行数：{len(df)} | 列名：{df.columns.tolist()}\")\n",
    "print(f\"【缺失值TOP3】:{df.isnull().sum().sort_values(ascending=False).head(3)}\")\n"
   ]
  },
  {
   "cell_type": "code",
   "execution_count": 45,
   "id": "f64eb81b-8164-44be-8d7f-81055f507f14",
   "metadata": {},
   "outputs": [],
   "source": [
    "#02.核心字段清洗（30分钟，按优先级处理）\n",
    "# 第一步：删除重复行\n",
    "df = df.drop_duplicates()\n",
    "# 第二步：处理关键业务字段 （如日期/数值列）\n",
    "\n",
    "#03 缺失值处理（按业务逻辑选择策略）\n",
    "# 高优先级字段（如用户ID,核心指标）：直接删除缺失行\n",
    "df = df.dropna(subset='Cabin')\n",
    "# 低优先级字段（如用户地址）：用“未知”填充  或者均值/中位数\n",
    "df[\"Age\"].fillna(df[\"Age\"].median())\n",
    "df[\"Fare\"].fillna(df[\"Fare\"].median())\n",
    "\n",
    "\n",
    "#04. 输出清洗后数据＋记录日志\n",
    "dataset_name=\"kaggle_泰坦尼克号生存数据\"\n",
    "timestamp = pd.Timestamp.now().strftime('%Y%m%d_%H%M%S')\n",
    "cleaned_path = f\"./cleaned/清洗后_{dataset_name}_{timestamp}.csv\"\n",
    "df.to_csv(cleaned_path,index=False)\n",
    "with open(\"清洗日志.txt\",\"a\",encoding='utf-8') as f:\n",
    "    f.write(f\"【{timestamp}】清洗结果保存至：{cleaned_path} | 删除{len(df原始)-len(df)}行无效数据，缺失值处理策略：age填充中位数 fare填充中位数\\n\")"
   ]
  },
  {
   "cell_type": "code",
   "execution_count": null,
   "id": "fcf8e4c7-3885-41ab-b929-d93fbad3703f",
   "metadata": {},
   "outputs": [],
   "source": []
  }
 ],
 "metadata": {
  "kernelspec": {
   "display_name": "Python [conda env:clean_jupyter]",
   "language": "python",
   "name": "conda-env-clean_jupyter-py"
  },
  "language_info": {
   "codemirror_mode": {
    "name": "ipython",
    "version": 3
   },
   "file_extension": ".py",
   "mimetype": "text/x-python",
   "name": "python",
   "nbconvert_exporter": "python",
   "pygments_lexer": "ipython3",
   "version": "3.12.7"
  }
 },
 "nbformat": 4,
 "nbformat_minor": 5
}
