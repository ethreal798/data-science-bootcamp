{
 "cells": [
  {
   "cell_type": "code",
   "execution_count": 13,
   "id": "f0121700-9b8f-4c03-84be-7b369acda9a7",
   "metadata": {},
   "outputs": [
    {
     "name": "stdout",
     "output_type": "stream",
     "text": [
      "% of women who survived: 0.7420382165605095\n",
      "% of men who survived: 0.18890814558058924\n"
     ]
    }
   ],
   "source": [
    "import numpy as np\n",
    "import pandas as pd\n",
    "\n",
    "train_data = pd.read_csv('./raw/train.csv')\n",
    "train_data.head()\n",
    "\n",
    "test_data = pd.read_csv('./raw/test.csv')\n",
    "test_data.head()\n",
    "\n",
    "\n",
    "women = train_data.loc[train_data.Sex == 'female',\"Survived\"]\n",
    "rate_women = sum(women)/len(women)\n",
    "print(\"% of women who survived:\",rate_women)\n",
    "\n",
    "\n",
    "man = train_data.loc[train_data.Sex=='male',\"Survived\"]\n",
    "rate_men = sum(man)/len(man)\n",
    "print(\"% of men who survived:\",rate_men)"
   ]
  },
  {
   "cell_type": "code",
   "execution_count": 23,
   "id": "47a13c0d-cbba-4c76-8ade-d7f76389aedc",
   "metadata": {},
   "outputs": [
    {
     "name": "stdout",
     "output_type": "stream",
     "text": [
      "submission was successfully saved\n"
     ]
    }
   ],
   "source": [
    "from sklearn.ensemble import RandomForestClassifier\n",
    "\n",
    "y = train_data[\"Survived\"]\n",
    "features = [\"Pclass\",\"Sex\",\"SibSp\",\"Parch\"]\n",
    "X = pd.get_dummies(train_data[features])\n",
    "X_test = pd.get_dummies(test_data[features])\n",
    "\n",
    "model = RandomForestClassifier(n_estimators=100,max_depth=5,random_state=1)\n",
    "model.fit(X,y)\n",
    "\n",
    "predictions = model.predict(X_test)\n",
    "\n",
    "output = pd.DataFrame({'PassengerId': test_data.PassengerId,'Survived':predictions})\n",
    "output.to_csv('submission.csv',index=False)\n",
    "print(\"submission was successfully saved\")"
   ]
  },
  {
   "cell_type": "code",
   "execution_count": null,
   "id": "65790a24-d590-442d-b399-bc23b1b1c1db",
   "metadata": {},
   "outputs": [],
   "source": []
  }
 ],
 "metadata": {
  "kernelspec": {
   "display_name": "Python [conda env:clean_jupyter]",
   "language": "python",
   "name": "conda-env-clean_jupyter-py"
  },
  "language_info": {
   "codemirror_mode": {
    "name": "ipython",
    "version": 3
   },
   "file_extension": ".py",
   "mimetype": "text/x-python",
   "name": "python",
   "nbconvert_exporter": "python",
   "pygments_lexer": "ipython3",
   "version": "3.12.7"
  }
 },
 "nbformat": 4,
 "nbformat_minor": 5
}
