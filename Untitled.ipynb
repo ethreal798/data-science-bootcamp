{
 "cells": [
  {
   "cell_type": "code",
   "execution_count": 1,
   "id": "714e3884-4b5f-47ad-a667-69a4b231f7ed",
   "metadata": {},
   "outputs": [
    {
     "name": "stdout",
     "output_type": "stream",
     "text": [
      "   A  B\n",
      "0  1  4\n",
      "1  2  5\n",
      "2  3  6\n"
     ]
    }
   ],
   "source": [
    "import pandas as pd  \n",
    "df = pd.DataFrame({\"A\": [1, 2, 3], \"B\": [4, 5, 6]})  \n",
    "print(df.head())  "
   ]
  },
  {
   "cell_type": "code",
   "execution_count": 3,
   "id": "776e1b6f-e5f9-48c3-b2d2-d7a280d2e159",
   "metadata": {},
   "outputs": [
    {
     "data": {
      "text/plain": [
       "[0, 1, 2, 3, 4, 5, 6, 7, 8, 9]"
      ]
     },
     "execution_count": 3,
     "metadata": {},
     "output_type": "execute_result"
    }
   ],
   "source": [
    "L = list(range(10))\n",
    "L"
   ]
  },
  {
   "cell_type": "code",
   "execution_count": 4,
   "id": "78e0d1b5-36f7-4786-af7d-f8437339017e",
   "metadata": {},
   "outputs": [
    {
     "data": {
      "text/plain": [
       "array('i', [0, 1, 2, 3, 4, 5, 6, 7, 8, 9])"
      ]
     },
     "execution_count": 4,
     "metadata": {},
     "output_type": "execute_result"
    }
   ],
   "source": [
    "import array\n",
    "L = list(range(10))\n",
    "A = array.array('i',L)\n",
    "A"
   ]
  },
  {
   "cell_type": "code",
   "execution_count": 5,
   "id": "9d37cd6b-57e7-4633-895d-1f63ef76733b",
   "metadata": {},
   "outputs": [
    {
     "data": {
      "text/plain": [
       "array([1, 4, 2, 5, 3])"
      ]
     },
     "execution_count": 5,
     "metadata": {},
     "output_type": "execute_result"
    }
   ],
   "source": [
    "import numpy as np\n",
    "np.array([1,4,2,5,3])\n"
   ]
  },
  {
   "cell_type": "code",
   "execution_count": 6,
   "id": "9d8dd0b9-585f-4e12-a4d1-dac20c0d1943",
   "metadata": {},
   "outputs": [
    {
     "data": {
      "text/plain": [
       "array([3.14, 4.  , 2.  , 3.  ])"
      ]
     },
     "execution_count": 6,
     "metadata": {},
     "output_type": "execute_result"
    }
   ],
   "source": [
    "np.array([3.14,4,2,3])"
   ]
  },
  {
   "cell_type": "code",
   "execution_count": 7,
   "id": "47896149-646d-401a-ab3e-c952a28a936c",
   "metadata": {},
   "outputs": [
    {
     "data": {
      "text/plain": [
       "array([1., 2., 3., 4.], dtype=float32)"
      ]
     },
     "execution_count": 7,
     "metadata": {},
     "output_type": "execute_result"
    }
   ],
   "source": [
    "np.array([1,2,3,4],dtype='float32')"
   ]
  },
  {
   "cell_type": "code",
   "execution_count": 8,
   "id": "36543ea4-bfe2-4076-9553-dc92dcd00ac4",
   "metadata": {},
   "outputs": [
    {
     "data": {
      "text/plain": [
       "array([0, 0, 0, 0, 0, 0, 0, 0, 0, 0])"
      ]
     },
     "execution_count": 8,
     "metadata": {},
     "output_type": "execute_result"
    }
   ],
   "source": [
    "np.zeros(10,dtype=int)"
   ]
  },
  {
   "cell_type": "code",
   "execution_count": 9,
   "id": "fe31d0be-8158-42b2-ae6b-9d8374cbfedf",
   "metadata": {},
   "outputs": [
    {
     "data": {
      "text/plain": [
       "array([[1., 1., 1., 1., 1.],\n",
       "       [1., 1., 1., 1., 1.],\n",
       "       [1., 1., 1., 1., 1.]])"
      ]
     },
     "execution_count": 9,
     "metadata": {},
     "output_type": "execute_result"
    }
   ],
   "source": [
    "np.ones((3,5),dtype='float')"
   ]
  },
  {
   "cell_type": "code",
   "execution_count": 10,
   "id": "9c6ca542-2019-4e40-aab4-58e955df1384",
   "metadata": {},
   "outputs": [
    {
     "data": {
      "text/plain": [
       "array([[3.14, 3.14, 3.14, 3.14, 3.14],\n",
       "       [3.14, 3.14, 3.14, 3.14, 3.14],\n",
       "       [3.14, 3.14, 3.14, 3.14, 3.14]])"
      ]
     },
     "execution_count": 10,
     "metadata": {},
     "output_type": "execute_result"
    }
   ],
   "source": [
    "np.full((3,5),3.14)"
   ]
  },
  {
   "cell_type": "code",
   "execution_count": 11,
   "id": "ea2cde4a-957c-4a43-b427-caf7560d8b04",
   "metadata": {},
   "outputs": [
    {
     "data": {
      "text/plain": [
       "array([ 0,  2,  4,  6,  8, 10, 12, 14, 16, 18])"
      ]
     },
     "execution_count": 11,
     "metadata": {},
     "output_type": "execute_result"
    }
   ],
   "source": [
    "np.arange(0,20,2)"
   ]
  },
  {
   "cell_type": "code",
   "execution_count": 12,
   "id": "d10c8e11-f26f-453f-8cd1-09bb2b6bdf66",
   "metadata": {},
   "outputs": [
    {
     "data": {
      "text/plain": [
       "array([0.  , 0.25, 0.5 , 0.75, 1.  ])"
      ]
     },
     "execution_count": 12,
     "metadata": {},
     "output_type": "execute_result"
    }
   ],
   "source": [
    "np.linspace(0,1,5)"
   ]
  },
  {
   "cell_type": "code",
   "execution_count": 13,
   "id": "8037058f-9bd6-4d81-8717-1578ce815084",
   "metadata": {},
   "outputs": [
    {
     "data": {
      "text/plain": [
       "array([[0.27313732, 0.54216769, 0.34651873],\n",
       "       [0.03898862, 0.80067383, 0.25856833],\n",
       "       [0.31072282, 0.89119396, 0.90593363]])"
      ]
     },
     "execution_count": 13,
     "metadata": {},
     "output_type": "execute_result"
    }
   ],
   "source": [
    "np.random.random((3,3))"
   ]
  },
  {
   "cell_type": "code",
   "execution_count": 23,
   "id": "ab09adfc-d398-45ee-8673-2448e4ee988d",
   "metadata": {},
   "outputs": [
    {
     "name": "stdout",
     "output_type": "stream",
     "text": [
      "x3 ndim:  3\n",
      "x3 shape:  (3, 4, 5)\n",
      "x3 size:  60\n",
      "dtype: int32\n",
      "itemsize: 4 bytes\n",
      "nbytes: 240 bytes\n"
     ]
    },
    {
     "data": {
      "text/plain": [
       "np.int32(3)"
      ]
     },
     "execution_count": 23,
     "metadata": {},
     "output_type": "execute_result"
    }
   ],
   "source": [
    "np.random.seed(0)\n",
    "\n",
    "x1 = np.random.randint(10,size=6)\n",
    "x2 = np.random.randint(10,size=(3,4))\n",
    "x3 = np.random.randint(10,size=(3,4,5))\n",
    "\n",
    "print(\"x3 ndim: \",x3.ndim)\n",
    "print(\"x3 shape: \",x3.shape)\n",
    "print(\"x3 size: \",x3.size)\n",
    "\n",
    "print(\"dtype:\",x3.dtype)\n",
    "\n",
    "print(\"itemsize:\",x3.itemsize,\"bytes\")\n",
    "print(\"nbytes:\",x3.nbytes,\"bytes\")\n",
    "\n",
    "\n",
    "\n",
    "x2[0,0]"
   ]
  },
  {
   "cell_type": "code",
   "execution_count": 25,
   "id": "1dbddc2d-bb30-4d70-bb18-ed2d557cbc8e",
   "metadata": {},
   "outputs": [
    {
     "data": {
      "text/plain": [
       "array([0, 1, 2, 3, 4, 5, 6, 7, 8, 9])"
      ]
     },
     "execution_count": 25,
     "metadata": {},
     "output_type": "execute_result"
    }
   ],
   "source": [
    "x = np.arange(10)\n",
    "x"
   ]
  },
  {
   "cell_type": "code",
   "execution_count": 26,
   "id": "c427526c-ef6f-4f85-8fa7-fca0fb42464c",
   "metadata": {},
   "outputs": [
    {
     "data": {
      "text/plain": [
       "array([0, 1, 2, 3, 4])"
      ]
     },
     "execution_count": 26,
     "metadata": {},
     "output_type": "execute_result"
    }
   ],
   "source": [
    "x[:5]"
   ]
  },
  {
   "cell_type": "code",
   "execution_count": 27,
   "id": "8e1b0ec2-369b-49c5-9fdf-d31319b4c11c",
   "metadata": {},
   "outputs": [
    {
     "data": {
      "text/plain": [
       "array([5, 6, 7, 8, 9])"
      ]
     },
     "execution_count": 27,
     "metadata": {},
     "output_type": "execute_result"
    }
   ],
   "source": [
    "x[5:]"
   ]
  },
  {
   "cell_type": "code",
   "execution_count": 28,
   "id": "5c45ee2d-d8b2-45b2-a12e-1e5612ed0af2",
   "metadata": {},
   "outputs": [
    {
     "data": {
      "text/plain": [
       "array([4, 5, 6])"
      ]
     },
     "execution_count": 28,
     "metadata": {},
     "output_type": "execute_result"
    }
   ],
   "source": [
    "x[4:7]\n"
   ]
  },
  {
   "cell_type": "code",
   "execution_count": 29,
   "id": "a528ae5e-0c14-4c03-8d0f-d023929b1f8b",
   "metadata": {},
   "outputs": [
    {
     "data": {
      "text/plain": [
       "array([0, 2, 4, 6, 8])"
      ]
     },
     "execution_count": 29,
     "metadata": {},
     "output_type": "execute_result"
    }
   ],
   "source": [
    "x[::2]"
   ]
  },
  {
   "cell_type": "code",
   "execution_count": 30,
   "id": "1fb5ce23-b00e-4f66-a38b-eb3ba3256354",
   "metadata": {},
   "outputs": [
    {
     "data": {
      "text/plain": [
       "array([1, 3, 5, 7, 9])"
      ]
     },
     "execution_count": 30,
     "metadata": {},
     "output_type": "execute_result"
    }
   ],
   "source": [
    "x[1::2]"
   ]
  },
  {
   "cell_type": "code",
   "execution_count": 31,
   "id": "2360ba6b-bdb6-494d-bb22-ecace3b74288",
   "metadata": {},
   "outputs": [
    {
     "data": {
      "text/plain": [
       "array([9, 8, 7, 6, 5, 4, 3, 2, 1, 0])"
      ]
     },
     "execution_count": 31,
     "metadata": {},
     "output_type": "execute_result"
    }
   ],
   "source": [
    "x[::-1]"
   ]
  },
  {
   "cell_type": "code",
   "execution_count": 32,
   "id": "a2eb770a-7d0e-4e9c-aebd-ee323e89e66c",
   "metadata": {},
   "outputs": [
    {
     "data": {
      "text/plain": [
       "array([5, 3, 1])"
      ]
     },
     "execution_count": 32,
     "metadata": {},
     "output_type": "execute_result"
    }
   ],
   "source": [
    "x[5::-2]"
   ]
  },
  {
   "cell_type": "code",
   "execution_count": 33,
   "id": "65124d1f-88b6-4464-ba25-6b24fcf2d65d",
   "metadata": {},
   "outputs": [
    {
     "data": {
      "text/plain": [
       "array([[3, 5, 2, 4],\n",
       "       [7, 6, 8, 8],\n",
       "       [1, 6, 7, 7]], dtype=int32)"
      ]
     },
     "execution_count": 33,
     "metadata": {},
     "output_type": "execute_result"
    }
   ],
   "source": [
    "x2"
   ]
  },
  {
   "cell_type": "code",
   "execution_count": 34,
   "id": "f7b61727-e3d4-4535-872d-37ea11bb7c75",
   "metadata": {},
   "outputs": [
    {
     "data": {
      "text/plain": [
       "array([[3, 5, 2],\n",
       "       [7, 6, 8]], dtype=int32)"
      ]
     },
     "execution_count": 34,
     "metadata": {},
     "output_type": "execute_result"
    }
   ],
   "source": [
    "x2[:2,:3]"
   ]
  },
  {
   "cell_type": "code",
   "execution_count": 36,
   "id": "0d32d553-0e61-41c2-9747-ff5af0be11d1",
   "metadata": {},
   "outputs": [
    {
     "data": {
      "text/plain": [
       "array([[3, 2],\n",
       "       [7, 8]], dtype=int32)"
      ]
     },
     "execution_count": 36,
     "metadata": {},
     "output_type": "execute_result"
    }
   ],
   "source": [
    "x2[:2,::2]"
   ]
  },
  {
   "cell_type": "code",
   "execution_count": 37,
   "id": "52bc1843-ab6d-4c92-95df-8815877061c1",
   "metadata": {},
   "outputs": [
    {
     "data": {
      "text/plain": [
       "array([[7, 7, 6, 1],\n",
       "       [8, 8, 6, 7],\n",
       "       [4, 2, 5, 3]], dtype=int32)"
      ]
     },
     "execution_count": 37,
     "metadata": {},
     "output_type": "execute_result"
    }
   ],
   "source": [
    "x2[::-1,::-1]"
   ]
  },
  {
   "cell_type": "code",
   "execution_count": 38,
   "id": "393a2477-5bf2-40d8-abc2-597f02819182",
   "metadata": {},
   "outputs": [
    {
     "data": {
      "text/plain": [
       "array([3, 7, 1], dtype=int32)"
      ]
     },
     "execution_count": 38,
     "metadata": {},
     "output_type": "execute_result"
    }
   ],
   "source": [
    "x2[:,0]"
   ]
  },
  {
   "cell_type": "code",
   "execution_count": 39,
   "id": "97ac826d-a6ee-491a-b499-8f9eac94c582",
   "metadata": {},
   "outputs": [
    {
     "data": {
      "text/plain": [
       "array([3, 5, 2, 4], dtype=int32)"
      ]
     },
     "execution_count": 39,
     "metadata": {},
     "output_type": "execute_result"
    }
   ],
   "source": [
    "x2[0,:]"
   ]
  },
  {
   "cell_type": "code",
   "execution_count": 40,
   "id": "37da4003-bbc0-4ffd-bd69-9c67bf866c21",
   "metadata": {},
   "outputs": [
    {
     "data": {
      "text/plain": [
       "array([3, 5, 2, 4], dtype=int32)"
      ]
     },
     "execution_count": 40,
     "metadata": {},
     "output_type": "execute_result"
    }
   ],
   "source": [
    "x2[0]"
   ]
  },
  {
   "cell_type": "code",
   "execution_count": 41,
   "id": "a3262aba-c5dc-4911-91b4-72ce37955099",
   "metadata": {},
   "outputs": [
    {
     "name": "stdout",
     "output_type": "stream",
     "text": [
      "[3 5 2 4]\n"
     ]
    }
   ],
   "source": [
    "print(x2[0])"
   ]
  },
  {
   "cell_type": "code",
   "execution_count": 42,
   "id": "8af88748-e6c9-4d12-8847-5de33a241b1d",
   "metadata": {},
   "outputs": [
    {
     "name": "stdout",
     "output_type": "stream",
     "text": [
      "[[3 5 2 4]\n",
      " [7 6 8 8]\n",
      " [1 6 7 7]]\n"
     ]
    }
   ],
   "source": [
    "print(x2)\n"
   ]
  },
  {
   "cell_type": "code",
   "execution_count": 45,
   "id": "a861bec5-b1fd-4e06-bd1b-de4c3adcbcc2",
   "metadata": {},
   "outputs": [
    {
     "name": "stdout",
     "output_type": "stream",
     "text": [
      "[[3 5]\n",
      " [7 6]]\n"
     ]
    }
   ],
   "source": [
    "x2_sub = x2[:2,:2]\n",
    "print(x2_sub)"
   ]
  },
  {
   "cell_type": "code",
   "execution_count": 46,
   "id": "a3d4589c-5dd4-41bf-b4a4-39d8e971526f",
   "metadata": {},
   "outputs": [
    {
     "name": "stdout",
     "output_type": "stream",
     "text": [
      "[[100   5]\n",
      " [  7   6]]\n"
     ]
    }
   ],
   "source": [
    "x2_sub[0,0] = 100\n",
    "print(x2_sub)"
   ]
  },
  {
   "cell_type": "code",
   "execution_count": 47,
   "id": "b6baa9e2-500e-41ef-89db-d768c9c037ac",
   "metadata": {},
   "outputs": [
    {
     "name": "stdout",
     "output_type": "stream",
     "text": [
      "[[100   5   2   4]\n",
      " [  7   6   8   8]\n",
      " [  1   6   7   7]]\n"
     ]
    }
   ],
   "source": [
    "print(x2)"
   ]
  },
  {
   "cell_type": "code",
   "execution_count": 49,
   "id": "50908276-19c7-4bf1-b9d3-b7a5079f8749",
   "metadata": {},
   "outputs": [
    {
     "name": "stdout",
     "output_type": "stream",
     "text": [
      "[[100   5]\n",
      " [  7   6]]\n"
     ]
    }
   ],
   "source": [
    "x2_sub_copy = x2[:2,:2].copy()\n",
    "print(x2_sub_copy)"
   ]
  },
  {
   "cell_type": "code",
   "execution_count": 50,
   "id": "8cc19e8b-3bee-41a9-8ca6-01011f8b531c",
   "metadata": {},
   "outputs": [],
   "source": [
    "x2_sub_copy[0,0] = 22"
   ]
  },
  {
   "cell_type": "code",
   "execution_count": 51,
   "id": "ee12e068-ee72-40a3-98fb-bbb05a41a7db",
   "metadata": {},
   "outputs": [
    {
     "name": "stdout",
     "output_type": "stream",
     "text": [
      "[[22  5]\n",
      " [ 7  6]]\n",
      "[[100   5   2   4]\n",
      " [  7   6   8   8]\n",
      " [  1   6   7   7]]\n"
     ]
    }
   ],
   "source": [
    "print(x2_sub_copy)\n",
    "print(x2)"
   ]
  },
  {
   "cell_type": "code",
   "execution_count": 5,
   "id": "1031bc1a-7f72-4cc7-8c5a-2a12a591eb47",
   "metadata": {},
   "outputs": [
    {
     "name": "stdout",
     "output_type": "stream",
     "text": [
      "[[1 2 3]\n",
      " [4 5 6]\n",
      " [7 8 9]]\n"
     ]
    }
   ],
   "source": [
    "import numpy as np\n",
    "grid = np.arange(1,10).reshape((3,3))\n",
    "print(grid)"
   ]
  },
  {
   "cell_type": "code",
   "execution_count": 7,
   "id": "cedafcf6-3e80-4fab-8f58-e9de01afeb5f",
   "metadata": {},
   "outputs": [
    {
     "data": {
      "text/plain": [
       "array([[1, 2, 3]])"
      ]
     },
     "execution_count": 7,
     "metadata": {},
     "output_type": "execute_result"
    }
   ],
   "source": [
    "x = np.array([1,2,3])\n",
    "x.reshape((1,3))"
   ]
  },
  {
   "cell_type": "code",
   "execution_count": 9,
   "id": "37c8cd43-8a1d-4723-9389-6a241f5adbbf",
   "metadata": {},
   "outputs": [
    {
     "data": {
      "text/plain": [
       "array([[1, 2, 3]])"
      ]
     },
     "execution_count": 9,
     "metadata": {},
     "output_type": "execute_result"
    }
   ],
   "source": [
    "x[np.newaxis,:]"
   ]
  },
  {
   "cell_type": "code",
   "execution_count": 11,
   "id": "41800370-3c2c-4e13-9ea1-5fc4a4329358",
   "metadata": {},
   "outputs": [
    {
     "data": {
      "text/plain": [
       "array([[1],\n",
       "       [2],\n",
       "       [3]])"
      ]
     },
     "execution_count": 11,
     "metadata": {},
     "output_type": "execute_result"
    }
   ],
   "source": [
    "x.reshape((3,1))"
   ]
  },
  {
   "cell_type": "code",
   "execution_count": 13,
   "id": "0acf7cc5-bc4f-4d18-b492-c43b89ac167b",
   "metadata": {},
   "outputs": [
    {
     "data": {
      "text/plain": [
       "array([1, 2, 3])"
      ]
     },
     "execution_count": 13,
     "metadata": {},
     "output_type": "execute_result"
    }
   ],
   "source": [
    "x[:]"
   ]
  },
  {
   "cell_type": "code",
   "execution_count": 15,
   "id": "12c8af43-cbcd-4b65-b0a1-6c0645d582c2",
   "metadata": {},
   "outputs": [
    {
     "data": {
      "text/plain": [
       "array([[1],\n",
       "       [2],\n",
       "       [3]])"
      ]
     },
     "execution_count": 15,
     "metadata": {},
     "output_type": "execute_result"
    }
   ],
   "source": [
    "x[:,np.newaxis]"
   ]
  },
  {
   "cell_type": "code",
   "execution_count": 19,
   "id": "572d5b21-73c8-4809-9f59-876e4608165f",
   "metadata": {},
   "outputs": [
    {
     "data": {
      "text/plain": [
       "array([1, 2, 3, 3, 2, 1])"
      ]
     },
     "execution_count": 19,
     "metadata": {},
     "output_type": "execute_result"
    }
   ],
   "source": [
    "x = np.array([1,2,3])\n",
    "y = np.array([3,2,1])\n",
    "np.concatenate([x,y])"
   ]
  },
  {
   "cell_type": "code",
   "execution_count": 21,
   "id": "b68c801b-4393-4860-93f5-d3197269557a",
   "metadata": {},
   "outputs": [
    {
     "data": {
      "text/plain": [
       "array([ 1,  2,  3,  3,  2,  1, 99, 99, 99])"
      ]
     },
     "execution_count": 21,
     "metadata": {},
     "output_type": "execute_result"
    }
   ],
   "source": [
    "z = [99,99,99]\n",
    "np.concatenate([x,y,z])"
   ]
  },
  {
   "cell_type": "code",
   "execution_count": 25,
   "id": "c9bfb57a-fb08-42a9-a27d-db9370540894",
   "metadata": {},
   "outputs": [
    {
     "data": {
      "text/plain": [
       "array([[1, 2, 3],\n",
       "       [4, 5, 6],\n",
       "       [1, 2, 3],\n",
       "       [4, 5, 6]])"
      ]
     },
     "execution_count": 25,
     "metadata": {},
     "output_type": "execute_result"
    }
   ],
   "source": [
    "grid = np.array([[1,2,3],\n",
    "               [4,5,6]])\n",
    "\n",
    "np.concatenate([grid,grid])\n"
   ]
  },
  {
   "cell_type": "code",
   "execution_count": 27,
   "id": "424fc8b3-f8fa-4464-87ce-1899e1cee51c",
   "metadata": {},
   "outputs": [
    {
     "data": {
      "text/plain": [
       "array([[1, 2, 3, 1, 2, 3],\n",
       "       [4, 5, 6, 4, 5, 6]])"
      ]
     },
     "execution_count": 27,
     "metadata": {},
     "output_type": "execute_result"
    }
   ],
   "source": [
    "np.concatenate([grid,grid],axis=1)"
   ]
  },
  {
   "cell_type": "code",
   "execution_count": 29,
   "id": "bc537466-ca03-4e11-ae21-266b7b7f05c3",
   "metadata": {},
   "outputs": [
    {
     "data": {
      "text/plain": [
       "array([[1, 2, 3],\n",
       "       [9, 8, 7],\n",
       "       [6, 5, 4]])"
      ]
     },
     "execution_count": 29,
     "metadata": {},
     "output_type": "execute_result"
    }
   ],
   "source": [
    "x = np.array([1,2,3])\n",
    "grid = np.array([[9,8,7],[6,5,4]])\n",
    "np.vstack([x,grid])"
   ]
  },
  {
   "cell_type": "code",
   "execution_count": 31,
   "id": "fba88304-1bd0-4164-a887-e631dc1bbda8",
   "metadata": {},
   "outputs": [
    {
     "data": {
      "text/plain": [
       "array([[ 9,  8,  7, 99],\n",
       "       [ 6,  5,  4, 99]])"
      ]
     },
     "execution_count": 31,
     "metadata": {},
     "output_type": "execute_result"
    }
   ],
   "source": [
    "y = np.array([[99],[99]])\n",
    "np.hstack([grid,y])"
   ]
  },
  {
   "cell_type": "code",
   "execution_count": 33,
   "id": "be29c139-39ce-48cc-a41d-a20c9dee662b",
   "metadata": {},
   "outputs": [
    {
     "name": "stdout",
     "output_type": "stream",
     "text": [
      "[1 2 3] [99 99] [3 2 1]\n"
     ]
    }
   ],
   "source": [
    "x = [1,2,3,99,99,3,2,1]\n",
    "x1,x2,x3 = np.split(x,[3,5])\n",
    "print(x1,x2,x3)"
   ]
  },
  {
   "cell_type": "code",
   "execution_count": 37,
   "id": "70d58423-bc45-44c8-a818-bdab798efb35",
   "metadata": {},
   "outputs": [
    {
     "data": {
      "text/plain": [
       "array([[ 0,  1,  2,  3],\n",
       "       [ 4,  5,  6,  7],\n",
       "       [ 8,  9, 10, 11],\n",
       "       [12, 13, 14, 15]])"
      ]
     },
     "execution_count": 37,
     "metadata": {},
     "output_type": "execute_result"
    }
   ],
   "source": [
    "grid = np.arange(16).reshape(4,4)\n",
    "grid"
   ]
  },
  {
   "cell_type": "code",
   "execution_count": 41,
   "id": "0d856e2a-186a-4cfb-839b-3ce93b2e160c",
   "metadata": {},
   "outputs": [
    {
     "name": "stdout",
     "output_type": "stream",
     "text": [
      "[[0 1 2 3]\n",
      " [4 5 6 7]]\n",
      "[[ 8  9 10 11]\n",
      " [12 13 14 15]]\n",
      "[[ 0  1]\n",
      " [ 4  5]\n",
      " [ 8  9]\n",
      " [12 13]]\n",
      "[[ 2  3]\n",
      " [ 6  7]\n",
      " [10 11]\n",
      " [14 15]]\n"
     ]
    }
   ],
   "source": [
    "upper,lower = np.vsplit(grid,[2])\n",
    "print(upper)\n",
    "print(lower)\n",
    "\n",
    "left,right = np.hsplit(grid,[2])\n",
    "print(left)\n",
    "print(right)"
   ]
  },
  {
   "cell_type": "code",
   "execution_count": 47,
   "id": "f27468e2-836e-43e3-ae1d-95fe3e948c6b",
   "metadata": {},
   "outputs": [
    {
     "name": "stdout",
     "output_type": "stream",
     "text": [
      "x  = [0 1 2 3]\n",
      "x + 5 = [5 6 7 8]\n",
      "x - 5 = [-5 -4 -3 -2]\n",
      "x * 2 = [0 2 4 6]\n",
      "x / 2 = [0.  0.5 1.  1.5]\n",
      "x // 2 = [0 0 1 1]\n"
     ]
    }
   ],
   "source": [
    "x = np.arange(4)\n",
    "print(\"x  =\",x)\n",
    "print(\"x + 5 =\",x+5)\n",
    "print(\"x - 5 =\",x-5)\n",
    "print(\"x * 2 =\",x*2)\n",
    "print(\"x / 2 =\",x/2)\n",
    "print(\"x // 2 =\",x//2)"
   ]
  },
  {
   "cell_type": "code",
   "execution_count": 49,
   "id": "62872098-551d-413d-8f30-9a397b039032",
   "metadata": {},
   "outputs": [
    {
     "name": "stdout",
     "output_type": "stream",
     "text": [
      "-x  = [ 0 -1 -2 -3]\n",
      "x ** 2  = [0 1 4 9]\n",
      "x % 2 = [0 1 0 1]\n"
     ]
    }
   ],
   "source": [
    "print(\"-x  =\",-x)\n",
    "print(\"x ** 2  =\",x**2)\n",
    "print(\"x % 2 =\",x%2)"
   ]
  },
  {
   "cell_type": "code",
   "execution_count": 59,
   "id": "b2e4e16e-f065-48db-8608-52bfe097864e",
   "metadata": {},
   "outputs": [
    {
     "data": {
      "text/plain": [
       "array([1, 2, 3, 4, 5])"
      ]
     },
     "execution_count": 59,
     "metadata": {},
     "output_type": "execute_result"
    }
   ],
   "source": [
    "x = np.array([-1,-2,-3,-4,-5])\n",
    "np.abs(x)"
   ]
  },
  {
   "cell_type": "code",
   "execution_count": 61,
   "id": "7f7480b4-d53c-4a3b-9218-501edb33902a",
   "metadata": {},
   "outputs": [
    {
     "name": "stdout",
     "output_type": "stream",
     "text": [
      "[ 0. 10. 20. 30. 40.]\n"
     ]
    }
   ],
   "source": [
    "x = np.arange(5)\n",
    "y = np.empty(5)\n",
    "np.multiply(x,10,out=y)\n",
    "print(y)"
   ]
  },
  {
   "cell_type": "code",
   "execution_count": 65,
   "id": "74529fe8-2efc-426d-8bb0-78c6aa023d69",
   "metadata": {},
   "outputs": [
    {
     "name": "stdout",
     "output_type": "stream",
     "text": [
      "[0. 0. 0. 0. 0. 0. 0. 0. 0. 0.]\n",
      "[ 1.  0.  2.  0.  4.  0.  8.  0. 16.  0.]\n"
     ]
    }
   ],
   "source": [
    "y = np.zeros(10)\n",
    "print(y)\n",
    "np.power(2,x,out=y[::2])\n",
    "print(y)"
   ]
  },
  {
   "cell_type": "code",
   "execution_count": 81,
   "id": "1d24e997-b8e1-47d5-9149-a47ab72dbb41",
   "metadata": {},
   "outputs": [
    {
     "data": {
      "text/plain": [
       "array([ 1,  3,  6, 10, 15])"
      ]
     },
     "execution_count": 81,
     "metadata": {},
     "output_type": "execute_result"
    }
   ],
   "source": [
    "x = np.arange(1,6)\n",
    "\n",
    "np.add.accumulate(x)\n"
   ]
  },
  {
   "cell_type": "code",
   "execution_count": 83,
   "id": "a678cc0a-4db3-466b-a8c0-8e396d72eff0",
   "metadata": {},
   "outputs": [
    {
     "data": {
      "text/plain": [
       "array([[ 1,  2,  3,  4,  5],\n",
       "       [ 2,  4,  6,  8, 10],\n",
       "       [ 3,  6,  9, 12, 15],\n",
       "       [ 4,  8, 12, 16, 20],\n",
       "       [ 5, 10, 15, 20, 25]])"
      ]
     },
     "execution_count": 83,
     "metadata": {},
     "output_type": "execute_result"
    }
   ],
   "source": [
    "x = np.arange(1,6)\n",
    "np.multiply.outer(x,x)"
   ]
  },
  {
   "cell_type": "code",
   "execution_count": 85,
   "id": "4a2d8d9a-a4e1-4b68-a835-e75d4051b9ba",
   "metadata": {},
   "outputs": [
    {
     "data": {
      "text/plain": [
       "50.92479430994087"
      ]
     },
     "execution_count": 85,
     "metadata": {},
     "output_type": "execute_result"
    }
   ],
   "source": [
    "L = np.random.random(100)\n",
    "np.sum(L)"
   ]
  },
  {
   "cell_type": "code",
   "execution_count": 107,
   "id": "1b5c40cb-fe00-4000-b935-454514f69fb2",
   "metadata": {},
   "outputs": [
    {
     "name": "stdout",
     "output_type": "stream",
     "text": [
      "[[0.60468837 0.11589731 0.14476491 0.17796104]\n",
      " [0.16292286 0.00641067 0.50975815 0.5320764 ]\n",
      " [0.53452507 0.4211237  0.09612191 0.55738334]]\n"
     ]
    },
    {
     "data": {
      "text/plain": [
       "array([0.11589731, 0.00641067, 0.09612191])"
      ]
     },
     "execution_count": 107,
     "metadata": {},
     "output_type": "execute_result"
    }
   ],
   "source": [
    "M = np.random.random((3,4))\n",
    "print(M)\n",
    "M.min(axis=1)\n"
   ]
  },
  {
   "cell_type": "code",
   "execution_count": 115,
   "id": "575e0057-87af-47fc-a2c1-5ea04bcd220c",
   "metadata": {},
   "outputs": [
    {
     "name": "stdout",
     "output_type": "stream",
     "text": [
      "[189 170 189]\n"
     ]
    }
   ],
   "source": [
    "import pandas as pd\n",
    "\n",
    "data = pd.read_csv('D:/MyCsv/president_heights.csv')\n",
    "heights = np.array(data['height(cm)'])\n",
    "print(heights)"
   ]
  },
  {
   "cell_type": "code",
   "execution_count": 119,
   "id": "48c19d70-5323-4733-ada3-af9a6c3015ad",
   "metadata": {},
   "outputs": [
    {
     "data": {
      "text/plain": [
       "array([5, 6, 7])"
      ]
     },
     "execution_count": 119,
     "metadata": {},
     "output_type": "execute_result"
    }
   ],
   "source": [
    "import numpy as np\n",
    "\n",
    "a = np.array([0,1,2])\n",
    "b = np.array([5,5,5])\n",
    "a + 5\n"
   ]
  },
  {
   "cell_type": "code",
   "execution_count": 121,
   "id": "2cf419c5-feb7-4311-8c55-5a5785331101",
   "metadata": {},
   "outputs": [
    {
     "data": {
      "text/plain": [
       "array([[1., 1., 1.],\n",
       "       [1., 1., 1.],\n",
       "       [1., 1., 1.]])"
      ]
     },
     "execution_count": 121,
     "metadata": {},
     "output_type": "execute_result"
    }
   ],
   "source": [
    "M = np.ones((3,3))\n",
    "M"
   ]
  },
  {
   "cell_type": "code",
   "execution_count": 123,
   "id": "ba909fd1-99af-47ed-b6d4-e94d74e7445d",
   "metadata": {},
   "outputs": [
    {
     "data": {
      "text/plain": [
       "array([[1., 2., 3.],\n",
       "       [1., 2., 3.],\n",
       "       [1., 2., 3.]])"
      ]
     },
     "execution_count": 123,
     "metadata": {},
     "output_type": "execute_result"
    }
   ],
   "source": [
    "M + a"
   ]
  },
  {
   "cell_type": "code",
   "execution_count": 135,
   "id": "6eadfa12-0110-478e-a738-02ba3d7b1b7b",
   "metadata": {},
   "outputs": [
    {
     "data": {
      "text/plain": [
       "array([[1., 2., 3.],\n",
       "       [1., 2., 3.]])"
      ]
     },
     "execution_count": 135,
     "metadata": {},
     "output_type": "execute_result"
    }
   ],
   "source": [
    "M = np.ones((2,3))\n",
    "a = np.arange(3)\n",
    "\n",
    "M+a"
   ]
  },
  {
   "cell_type": "code",
   "execution_count": 143,
   "id": "cda9ab52-3c8a-4cc4-aa43-e9264c4b1ec0",
   "metadata": {},
   "outputs": [
    {
     "name": "stdout",
     "output_type": "stream",
     "text": [
      "[30, 76, 45, 6, 83, 49, 26, 60, 15, 13, 98, 30, 10, 11, 47, 28, 11, 41, 20, 44, 19, 22, 58, 51, 39, 74, 84, 31, 21, 90, 61, 12, 11, 79, 66, 13, 62, 96, 44, 3, 96, 39, 44, 36, 92, 44, 56, 95, 87, 88, 54, 58, 9, 66, 28, 93, 19, 63, 76, 23, 44, 24, 72, 50, 58, 94, 69, 51, 1, 22, 59, 69, 27, 81, 4, 13, 84, 98, 98, 15, 24, 39, 30, 51, 80, 3, 93, 18, 54, 19, 35, 86, 29, 25, 48, 87, 76, 83, 23, 47]\n",
      "机数占比:48.00%\n"
     ]
    }
   ],
   "source": [
    "import random\n",
    "random_numbers = [random.randint(1,100) for _ in range(100)]\n",
    "\n",
    "random_numbers = [random.randint(1,100) for _ in range(100)]\n",
    "\n",
    "even_count = sum(1 for x in random_numbers if x % 2 != 0 )\n",
    "print(f\"机数占比:{even_count / 100:.2%}\")"
   ]
  },
  {
   "cell_type": "code",
   "execution_count": 145,
   "id": "aa9f7828-a862-41fc-883a-9e1d54acbe9d",
   "metadata": {},
   "outputs": [
    {
     "name": "stdout",
     "output_type": "stream",
     "text": [
      "学生平均分（从高到低）：\n",
      "Charlie:92.67\n",
      "Alice:84.33\n",
      "Bob:80.00\n",
      "David:72.00\n"
     ]
    }
   ],
   "source": [
    "student_scores = {\n",
    "    'Alice':[85,90,78],\n",
    "    'Bob':[70,82,88],\n",
    "    'Charlie': [92, 95, 91],\n",
    "    'David': [65, 72, 79]\n",
    "}\n",
    "\n",
    "def calculate_average(scores):\n",
    "    return sum(scores)/len(scores)\n",
    "\n",
    "average_score = {student: calculate_average(scores) for student,scores in student_scores.items()}\n",
    "\n",
    "sorted_average_scores = sorted(average_score.items(),key = lambda item: item[1],reverse = True)\n",
    "\n",
    "print(\"学生平均分（从高到低）：\")\n",
    "for student,average_score in sorted_average_scores:\n",
    "    print(f\"{student}:{average_score:.2f}\")"
   ]
  },
  {
   "cell_type": "code",
   "execution_count": 149,
   "id": "c44699c7-3815-4942-89a3-6937fa8e4c2e",
   "metadata": {},
   "outputs": [
    {
     "name": "stdout",
     "output_type": "stream",
     "text": [
      "4\n",
      "5\n",
      "6\n"
     ]
    }
   ],
   "source": [
    "list1 = [1,2,3,4,5,6]\n",
    "list2 = [4,5,6,7,8,9]\n",
    "\n",
    "def find_common_elements(list1,list2):\n",
    "    set1 = set(list1)\n",
    "    for ele in list2:\n",
    "        if ele in set1:\n",
    "            yield ele\n",
    "\n",
    "common_number = find_common_elements(list1,list2)\n",
    "\n",
    "for element in common_number:\n",
    "    print(element)"
   ]
  },
  {
   "cell_type": "code",
   "execution_count": 158,
   "id": "0cfbe31d-0014-490a-87be-8037ce006f4b",
   "metadata": {},
   "outputs": [
    {
     "name": "stdout",
     "output_type": "stream",
     "text": [
      "清洗后数据：\n",
      "    订单号  用户ID       下单时间  商品ID    价格  数量 支付状态\n",
      "0  1001  U001 2024-01-01  P001  99.9   2  已支付\n"
     ]
    },
    {
     "name": "stderr",
     "output_type": "stream",
     "text": [
      "C:\\Users\\谢\\AppData\\Local\\Temp\\ipykernel_198120\\3040809775.py:26: SettingWithCopyWarning: \n",
      "A value is trying to be set on a copy of a slice from a DataFrame.\n",
      "Try using .loc[row_indexer,col_indexer] = value instead\n",
      "\n",
      "See the caveats in the documentation: https://pandas.pydata.org/pandas-docs/stable/user_guide/indexing.html#returning-a-view-versus-a-copy\n",
      "  df[\"用户ID\"] = df[\"用户ID\"].fillna(\"未知用户\")\n",
      "C:\\Users\\谢\\AppData\\Local\\Temp\\ipykernel_198120\\3040809775.py:29: FutureWarning: Downcasting object dtype arrays on .fillna, .ffill, .bfill is deprecated and will change in a future version. Call result.infer_objects(copy=False) instead. To opt-in to the future behavior, set `pd.set_option('future.no_silent_downcasting', True)`\n",
      "  df[\"价格\"] = df[\"价格\"].fillna(price_median)\n",
      "C:\\Users\\谢\\AppData\\Local\\Temp\\ipykernel_198120\\3040809775.py:29: SettingWithCopyWarning: \n",
      "A value is trying to be set on a copy of a slice from a DataFrame.\n",
      "Try using .loc[row_indexer,col_indexer] = value instead\n",
      "\n",
      "See the caveats in the documentation: https://pandas.pydata.org/pandas-docs/stable/user_guide/indexing.html#returning-a-view-versus-a-copy\n",
      "  df[\"价格\"] = df[\"价格\"].fillna(price_median)\n",
      "C:\\Users\\谢\\AppData\\Local\\Temp\\ipykernel_198120\\3040809775.py:31: SettingWithCopyWarning: \n",
      "A value is trying to be set on a copy of a slice from a DataFrame.\n",
      "Try using .loc[row_indexer,col_indexer] = value instead\n",
      "\n",
      "See the caveats in the documentation: https://pandas.pydata.org/pandas-docs/stable/user_guide/indexing.html#returning-a-view-versus-a-copy\n",
      "  df[\"支付状态\"] = df[\"支付状态\"].fillna(\"待支付\")\n"
     ]
    }
   ],
   "source": [
    "import pandas as pd\n",
    "import numpy as np\n",
    "\n",
    "\n",
    "def clean_ecommerce_data(df: pd.DataFrame) -> pd.DataFrame:\n",
    "    \"\"\"\n",
    "    清洗电商订单数据，处理缺失值和数据类型转换\n",
    "    参数：\n",
    "        df: 原始订单DataFrame\n",
    "    返回：\n",
    "        清洗后的DataFrame\n",
    "    \"\"\"\n",
    "    # 复制数据避免修改原始数据\n",
    "    cleaned_df = df.copy()\n",
    "    # 分步骤清洗\n",
    "    cleaned_df = handle_missing_values(cleaned_df)\n",
    "    cleaned_df = convert_data_types(cleaned_df)\n",
    "    cleaned_df = validate_business_rules(cleaned_df)\n",
    "    return cleaned_df\n",
    "\n",
    "\n",
    "def handle_missing_values(df: pd.DataFrame) -> pd.DataFrame:\n",
    "    # 1. 删除关键信息缺失的行（订单号、商品ID不能缺失）\n",
    "    df = df.dropna(subset=[\"订单号\", \"商品ID\"])\n",
    "    # 2. 填充用户ID缺失值（用\"未知用户\"标记）\n",
    "    df[\"用户ID\"] = df[\"用户ID\"].fillna(\"未知用户\")\n",
    "    # 3. 处理价格缺失值（用中位数填充，避免均值受异常值影响）\n",
    "    price_median = df[\"价格\"].median()\n",
    "    df[\"价格\"] = df[\"价格\"].fillna(price_median)\n",
    "    # 4. 填充支付状态缺失值（默认标记为\"待支付\"）\n",
    "    df[\"支付状态\"] = df[\"支付状态\"].fillna(\"待支付\")\n",
    "    return df\n",
    "\n",
    "\n",
    "def convert_data_types(df: pd.DataFrame) -> pd.DataFrame:\n",
    "    # 1. 订单号转为字符串（避免数值型丢失前导零）\n",
    "    df[\"订单号\"] = df[\"订单号\"].astype(str)\n",
    "    # 2. 下单时间统一转为datetime类型（兼容多种格式）\n",
    "    df[\"下单时间\"] = pd.to_datetime(df[\"下单时间\"], errors=\"coerce\")\n",
    "    # 3. 价格转为数值型（处理字符串格式如\"88\"）\n",
    "    df[\"价格\"] = pd.to_numeric(df[\"价格\"], errors=\"coerce\")\n",
    "    # 4. 数量转为正整数（过滤负数，用0填充无效值）\n",
    "    df[\"数量\"] = df[\"数量\"].clip(lower=0).astype(np.uint8)\n",
    "    return df\n",
    "\n",
    "\n",
    "def validate_business_rules(df: pd.DataFrame) -> pd.DataFrame:\n",
    "    # 1. 支付状态标准化（只保留有效状态）\n",
    "    valid_status = {\"已支付\", \"未支付\", \"待支付\", \"已取消\"}\n",
    "    df[\"支付状态\"] = df[\"支付状态\"].apply(\n",
    "        lambda x: x if x in valid_status else \"待支付\"\n",
    "    )\n",
    "    # 2. 过滤测试订单（订单号以\"TEST_\"开头的视为无效）\n",
    "    df = df[~df[\"订单号\"].str.startswith(\"TEST_\")]\n",
    "    return df\n",
    "\n",
    "\n",
    "# 生成测试数据（包含脏数据）\n",
    "data = {\n",
    "    \"订单号\": [1001, np.nan, 1003, \"TEST_1004\"],\n",
    "    \"用户ID\": [\"U001\", np.nan, \"U003\", \"U004\"],\n",
    "    \"下单时间\": [\"2024-01-01\", \"2024/01/02 15:30\", \"invalid_date\", \"2024-01-04\"],\n",
    "    \"商品ID\": [\"P001\", \"P002\", np.nan, \"P004\"],\n",
    "    \"价格\": [99.9, None, \"88\", -50],\n",
    "    \"数量\": [2, -1, 3, 5],\n",
    "    \"支付状态\": [\"已支付\", \"\", \"无效状态\", \"已取消\"]\n",
    "}\n",
    "raw_df = pd.DataFrame(data)\n",
    "\n",
    "# 执行清洗并查看结果\n",
    "\n",
    "cleaned_df = clean_ecommerce_data(raw_df)\n",
    "print(\"清洗后数据：\")\n",
    "print(cleaned_df)"
   ]
  },
  {
   "cell_type": "code",
   "execution_count": 1,
   "id": "68e5bb0d-fbb9-438e-bbd0-beeb312d2314",
   "metadata": {},
   "outputs": [
    {
     "name": "stdout",
     "output_type": "stream",
     "text": [
      "低消费用户 ['user001', 'user004']\n",
      "中消费人群 ['user002', 'user005']\n",
      "高消费人群 ['user003']\n"
     ]
    }
   ],
   "source": [
    "# 示例用户消费数据每个元组表示（用户ID，消费数据）\n",
    "user_consumption_data = [\n",
    "    (\"user001\",50),\n",
    "    (\"user002\",200),\n",
    "    (\"user003\",600),\n",
    "    (\"user004\",80),\n",
    "    (\"user005\",300),\n",
    "]\n",
    "\n",
    "# 初始化三个空列表用于存储不同层次的用户\n",
    "low_consumers = []\n",
    "medium_consumers = []\n",
    "high_consumers = []\n",
    "\n",
    "# 遍历用户消费数据\n",
    "for user_id,consumption in user_consumption_data:\n",
    "    if consumption < 100:\n",
    "        low_consumers.append(user_id)\n",
    "    elif 100<= consumption <=500:\n",
    "        medium_consumers.append(user_id)\n",
    "    else:\n",
    "        high_consumers.append(user_id)\n",
    "\n",
    "#输出不同层次的用户列表\n",
    "\n",
    "print(\"低消费用户\",low_consumers)\n",
    "print(\"中消费人群\",medium_consumers)\n",
    "print(\"高消费人群\",high_consumers)"
   ]
  },
  {
   "cell_type": "code",
   "execution_count": 1,
   "id": "c53b54aa-6da5-481a-8c57-4be0bcf9c53e",
   "metadata": {},
   "outputs": [
    {
     "name": "stdout",
     "output_type": "stream",
     "text": [
      "当前工作目录： C:\\Users\\谢\n"
     ]
    }
   ],
   "source": [
    "import os\n",
    "print(\"当前工作目录：\",os.getcwd())"
   ]
  },
  {
   "cell_type": "code",
   "execution_count": null,
   "id": "0e3295be-981b-48f4-907a-cd249e803495",
   "metadata": {},
   "outputs": [],
   "source": []
  }
 ],
 "metadata": {
  "kernelspec": {
   "display_name": "Python [conda env:base] *",
   "language": "python",
   "name": "conda-base-py"
  },
  "language_info": {
   "codemirror_mode": {
    "name": "ipython",
    "version": 3
   },
   "file_extension": ".py",
   "mimetype": "text/x-python",
   "name": "python",
   "nbconvert_exporter": "python",
   "pygments_lexer": "ipython3",
   "version": "3.12.7"
  }
 },
 "nbformat": 4,
 "nbformat_minor": 5
}
